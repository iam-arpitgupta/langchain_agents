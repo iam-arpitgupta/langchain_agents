{
 "cells": [
  {
   "cell_type": "code",
   "execution_count": null,
   "id": "0d1a8b0a-8fb8-46c2-9110-7b0a60e0a020",
   "metadata": {},
   "outputs": [],
   "source": [
    "from langchain_community.tools import WikipediaQureyRun\n",
    "from langchain_community.utilites import WikipideaAPIWrapper\n"
   ]
  },
  {
   "cell_type": "code",
   "execution_count": null,
   "id": "00fbed0e-0334-4fb6-9bfd-3c1f1cc61515",
   "metadata": {},
   "outputs": [],
   "source": [
    "api_wrapper=WikipideaAPIWrapper(top_k_results=1,doc_content_chars-max=200)\n",
    "wiki=WikipideaQueryRun(api_wrapper=api_wrapper)"
   ]
  },
  {
   "cell_type": "code",
   "execution_count": null,
   "id": "85115ec8-7911-44d3-a145-61f549a59855",
   "metadata": {},
   "outputs": [],
   "source": [
    "wiki.name"
   ]
  },
  {
   "cell_type": "code",
   "execution_count": null,
   "id": "03b530b7-21d0-4b2e-996b-00e47e9a9c9d",
   "metadata": {},
   "outputs": [],
   "source": [
    "from langchain_community.documents_loader import WebBasedLoader\n",
    "fom langchain_community.vectorstores import FAISS\n",
    "from langchain_openai import OpenAIEmbeddings\n",
    "from langchain_text_splitters import RecursiveCharacterTextSplitter\n",
    "\n",
    "loader=WebBasedLoader()\n",
    "docs = loader.load()\n",
    "RecursiveCharacterTextSplitter(chunk_size=1000,chunk_overlap=200).split_documents(docs)\n",
    "vectordb=FAISS.from_documents(documents,OpenAIEmbeddings())\n",
    "vectordb.as_retriver()\n",
    "retriver"
   ]
  },
  {
   "cell_type": "code",
   "execution_count": null,
   "id": "e95cb856-c3cb-44cd-bae2-9e06205c1621",
   "metadata": {},
   "outputs": [],
   "source": [
    "from langchain.tools.retriever import create_retriver_tool\n",
    "create_retriver_tool(retriver,\"langsmith_search\",\n",
    "                    \"search for the info about the langchain .for any questions about the LangSmith\")"
   ]
  },
  {
   "cell_type": "code",
   "execution_count": null,
   "id": "bfb20086-7be0-452d-9b5d-b17d0b7a257d",
   "metadata": {},
   "outputs": [],
   "source": [
    "retriever.tool_name "
   ]
  },
  {
   "cell_type": "code",
   "execution_count": null,
   "id": "5e04f511-5f70-4822-83b8-5d766325a840",
   "metadata": {},
   "outputs": [],
   "source": [
    "##arxiv tool \n",
    "from langchain_community.tools import ArxivAPIWrapper\n",
    "from langchain_community.utilites import ArxivQueryRun\n",
    "\n",
    "arxiv_wrapper=ArxivAPIWrapper(top_k_results=1,doc_content_chars_max=2000)\n",
    "arxiv=ArxivQueryRun(api_wrapper=arxiv_wrapper)\n",
    "arxiv.name"
   ]
  },
  {
   "cell_type": "code",
   "execution_count": null,
   "id": "722e62ab-037e-45d6-82d1-855b7b1ec93d",
   "metadata": {},
   "outputs": [],
   "source": [
    "tools=[wiki,arxiv,retriever_tool]\n",
    "tools"
   ]
  },
  {
   "cell_type": "code",
   "execution_count": null,
   "id": "21fa508d-960a-4119-8a70-c204f2f793f1",
   "metadata": {},
   "outputs": [],
   "source": [
    "#getting the openai api key \n",
    "from dotenv import load_dotenv\n",
    "\n",
    "load_dotenv()\n",
    "import os \n",
    "os.environ['OPENAI_API_KEY']=os.getenv['OPENAI_API_KEY']\n",
    "from langchain_openai import ChatOpenAI\n",
    "\n",
    "llm = ChatOpenAI(model='gpt-3.5-turbo',temperture=0)"
   ]
  },
  {
   "cell_type": "code",
   "execution_count": null,
   "id": "412b9a35-c119-487e-908f-b84d219122e6",
   "metadata": {},
   "outputs": [],
   "source": [
    "##is used for the prompting part \n",
    "from langchain import hub \n",
    "prompt = hub.pull(\"hwchase17/openai-functions-agent\")\n",
    "prompt.message()"
   ]
  },
  {
   "cell_type": "code",
   "execution_count": null,
   "id": "8f5af605-bb5b-4e62-b592-3f86dcc84841",
   "metadata": {},
   "outputs": [],
   "source": [
    "##agents -> from the 3 tools it will get the query \n",
    "from langchain.agents import create_openai_tools_agents\n",
    "agent=create_openai_tools_agent(llm,tools,prompt)"
   ]
  },
  {
   "cell_type": "code",
   "execution_count": null,
   "id": "7cea66a0-ea56-44fa-a718-053ba688cd59",
   "metadata": {},
   "outputs": [],
   "source": [
    "##agent executer \n",
    "from langchain.agents import AgentExecutor\n",
    "agent_executor=AgentExecutor(agents=agents,tools=tools,verboes=True)\n",
    "agent_executor"
   ]
  },
  {
   "cell_type": "code",
   "execution_count": null,
   "id": "5f02e81b-7f02-467d-b135-8293deff78da",
   "metadata": {},
   "outputs": [],
   "source": [
    "agent_executor.invoke({\"input\":\"tell me about the langsmith\"})"
   ]
  }
 ],
 "metadata": {
  "kernelspec": {
   "display_name": "Python 3 (ipykernel)",
   "language": "python",
   "name": "python3"
  },
  "language_info": {
   "codemirror_mode": {
    "name": "ipython",
    "version": 3
   },
   "file_extension": ".py",
   "mimetype": "text/x-python",
   "name": "python",
   "nbconvert_exporter": "python",
   "pygments_lexer": "ipython3",
   "version": "3.10.0"
  }
 },
 "nbformat": 4,
 "nbformat_minor": 5
}
